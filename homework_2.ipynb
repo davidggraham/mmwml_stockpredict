{
 "cells": [
  {
   "cell_type": "markdown",
   "metadata": {
    "colab_type": "text",
    "id": "lh4ucnuYfBun"
   },
   "source": [
    "# Setup"
   ]
  },
  {
   "cell_type": "code",
   "execution_count": 1,
   "metadata": {
    "colab": {
     "base_uri": "https://localhost:8080/",
     "height": 241
    },
    "colab_type": "code",
    "id": "qBjfw_Uk1Xu-",
    "outputId": "83338329-5cfe-4c08-9b70-9d4aba4bbf80"
   },
   "outputs": [],
   "source": [
    "import numpy as np\n",
    "import pandas as pd\n",
    "import matplotlib.pyplot as plt\n",
    "import seaborn as sns\n",
    "from pandas.plotting import register_matplotlib_converters\n",
    "register_matplotlib_converters()\n",
    "\n",
    "#Modeling\n",
    "from sklearn import linear_model\n",
    "\n",
    "#Modeling Metrics\n",
    "from sklearn import metrics\n",
    "\n",
    "sns.set()"
   ]
  },
  {
   "cell_type": "markdown",
   "metadata": {
    "colab_type": "text",
    "id": "r4NMWaQJf5vi"
   },
   "source": [
    "# Import Data and Discovery\n",
    "\n",
    "Due to some version issues with pandas-datareader, the CSV file was downloaded separately from Yahoo Finance."
   ]
  },
  {
   "cell_type": "code",
   "execution_count": 2,
   "metadata": {
    "colab": {},
    "colab_type": "code",
    "id": "XUaMSqfh18g_"
   },
   "outputs": [],
   "source": [
    "df = pd.read_csv('AAPL.csv',index_col='Date',parse_dates=True)"
   ]
  },
  {
   "cell_type": "markdown",
   "metadata": {},
   "source": [
    "## EDA"
   ]
  },
  {
   "cell_type": "code",
   "execution_count": 3,
   "metadata": {
    "colab": {},
    "colab_type": "code",
    "id": "VLmB5US53a7s"
   },
   "outputs": [
    {
     "data": {
      "text/plain": [
       "(250, 6)"
      ]
     },
     "execution_count": 3,
     "metadata": {},
     "output_type": "execute_result"
    }
   ],
   "source": [
    "df.shape"
   ]
  },
  {
   "cell_type": "code",
   "execution_count": 4,
   "metadata": {
    "colab": {},
    "colab_type": "code",
    "id": "-9UIsVvr1-6b"
   },
   "outputs": [
    {
     "data": {
      "text/html": [
       "<div>\n",
       "<style scoped>\n",
       "    .dataframe tbody tr th:only-of-type {\n",
       "        vertical-align: middle;\n",
       "    }\n",
       "\n",
       "    .dataframe tbody tr th {\n",
       "        vertical-align: top;\n",
       "    }\n",
       "\n",
       "    .dataframe thead th {\n",
       "        text-align: right;\n",
       "    }\n",
       "</style>\n",
       "<table border=\"1\" class=\"dataframe\">\n",
       "  <thead>\n",
       "    <tr style=\"text-align: right;\">\n",
       "      <th></th>\n",
       "      <th>Open</th>\n",
       "      <th>High</th>\n",
       "      <th>Low</th>\n",
       "      <th>Close</th>\n",
       "      <th>Adj Close</th>\n",
       "      <th>Volume</th>\n",
       "    </tr>\n",
       "    <tr>\n",
       "      <th>Date</th>\n",
       "      <th></th>\n",
       "      <th></th>\n",
       "      <th></th>\n",
       "      <th></th>\n",
       "      <th></th>\n",
       "      <th></th>\n",
       "    </tr>\n",
       "  </thead>\n",
       "  <tbody>\n",
       "    <tr>\n",
       "      <td>2018-09-10</td>\n",
       "      <td>220.949997</td>\n",
       "      <td>221.850006</td>\n",
       "      <td>216.470001</td>\n",
       "      <td>218.330002</td>\n",
       "      <td>214.993759</td>\n",
       "      <td>39516500</td>\n",
       "    </tr>\n",
       "    <tr>\n",
       "      <td>2018-09-11</td>\n",
       "      <td>218.009995</td>\n",
       "      <td>224.300003</td>\n",
       "      <td>216.559998</td>\n",
       "      <td>223.850006</td>\n",
       "      <td>220.429443</td>\n",
       "      <td>35749000</td>\n",
       "    </tr>\n",
       "    <tr>\n",
       "      <td>2018-09-12</td>\n",
       "      <td>224.940002</td>\n",
       "      <td>225.000000</td>\n",
       "      <td>219.839996</td>\n",
       "      <td>221.070007</td>\n",
       "      <td>217.691925</td>\n",
       "      <td>49278700</td>\n",
       "    </tr>\n",
       "    <tr>\n",
       "      <td>2018-09-13</td>\n",
       "      <td>223.520004</td>\n",
       "      <td>228.350006</td>\n",
       "      <td>222.570007</td>\n",
       "      <td>226.410004</td>\n",
       "      <td>222.950317</td>\n",
       "      <td>41706400</td>\n",
       "    </tr>\n",
       "    <tr>\n",
       "      <td>2018-09-14</td>\n",
       "      <td>225.750000</td>\n",
       "      <td>226.839996</td>\n",
       "      <td>222.520004</td>\n",
       "      <td>223.839996</td>\n",
       "      <td>220.419571</td>\n",
       "      <td>31999300</td>\n",
       "    </tr>\n",
       "  </tbody>\n",
       "</table>\n",
       "</div>"
      ],
      "text/plain": [
       "                  Open        High         Low       Close   Adj Close  \\\n",
       "Date                                                                     \n",
       "2018-09-10  220.949997  221.850006  216.470001  218.330002  214.993759   \n",
       "2018-09-11  218.009995  224.300003  216.559998  223.850006  220.429443   \n",
       "2018-09-12  224.940002  225.000000  219.839996  221.070007  217.691925   \n",
       "2018-09-13  223.520004  228.350006  222.570007  226.410004  222.950317   \n",
       "2018-09-14  225.750000  226.839996  222.520004  223.839996  220.419571   \n",
       "\n",
       "              Volume  \n",
       "Date                  \n",
       "2018-09-10  39516500  \n",
       "2018-09-11  35749000  \n",
       "2018-09-12  49278700  \n",
       "2018-09-13  41706400  \n",
       "2018-09-14  31999300  "
      ]
     },
     "execution_count": 4,
     "metadata": {},
     "output_type": "execute_result"
    }
   ],
   "source": [
    "df.head()"
   ]
  },
  {
   "cell_type": "code",
   "execution_count": 5,
   "metadata": {},
   "outputs": [
    {
     "data": {
      "text/html": [
       "<div>\n",
       "<style scoped>\n",
       "    .dataframe tbody tr th:only-of-type {\n",
       "        vertical-align: middle;\n",
       "    }\n",
       "\n",
       "    .dataframe tbody tr th {\n",
       "        vertical-align: top;\n",
       "    }\n",
       "\n",
       "    .dataframe thead th {\n",
       "        text-align: right;\n",
       "    }\n",
       "</style>\n",
       "<table border=\"1\" class=\"dataframe\">\n",
       "  <thead>\n",
       "    <tr style=\"text-align: right;\">\n",
       "      <th></th>\n",
       "      <th>Open</th>\n",
       "      <th>High</th>\n",
       "      <th>Low</th>\n",
       "      <th>Close</th>\n",
       "      <th>Adj Close</th>\n",
       "      <th>Volume</th>\n",
       "    </tr>\n",
       "    <tr>\n",
       "      <th>Date</th>\n",
       "      <th></th>\n",
       "      <th></th>\n",
       "      <th></th>\n",
       "      <th></th>\n",
       "      <th></th>\n",
       "      <th></th>\n",
       "    </tr>\n",
       "  </thead>\n",
       "  <tbody>\n",
       "    <tr>\n",
       "      <td>2019-08-30</td>\n",
       "      <td>210.160004</td>\n",
       "      <td>210.449997</td>\n",
       "      <td>207.199997</td>\n",
       "      <td>208.740005</td>\n",
       "      <td>208.740005</td>\n",
       "      <td>21143400</td>\n",
       "    </tr>\n",
       "    <tr>\n",
       "      <td>2019-09-03</td>\n",
       "      <td>206.429993</td>\n",
       "      <td>206.979996</td>\n",
       "      <td>204.220001</td>\n",
       "      <td>205.699997</td>\n",
       "      <td>205.699997</td>\n",
       "      <td>20023000</td>\n",
       "    </tr>\n",
       "    <tr>\n",
       "      <td>2019-09-04</td>\n",
       "      <td>208.389999</td>\n",
       "      <td>209.479996</td>\n",
       "      <td>207.320007</td>\n",
       "      <td>209.190002</td>\n",
       "      <td>209.190002</td>\n",
       "      <td>19188100</td>\n",
       "    </tr>\n",
       "    <tr>\n",
       "      <td>2019-09-05</td>\n",
       "      <td>212.000000</td>\n",
       "      <td>213.970001</td>\n",
       "      <td>211.509995</td>\n",
       "      <td>213.279999</td>\n",
       "      <td>213.279999</td>\n",
       "      <td>23913700</td>\n",
       "    </tr>\n",
       "    <tr>\n",
       "      <td>2019-09-06</td>\n",
       "      <td>214.050003</td>\n",
       "      <td>214.419998</td>\n",
       "      <td>212.509995</td>\n",
       "      <td>213.259995</td>\n",
       "      <td>213.259995</td>\n",
       "      <td>19350800</td>\n",
       "    </tr>\n",
       "  </tbody>\n",
       "</table>\n",
       "</div>"
      ],
      "text/plain": [
       "                  Open        High         Low       Close   Adj Close  \\\n",
       "Date                                                                     \n",
       "2019-08-30  210.160004  210.449997  207.199997  208.740005  208.740005   \n",
       "2019-09-03  206.429993  206.979996  204.220001  205.699997  205.699997   \n",
       "2019-09-04  208.389999  209.479996  207.320007  209.190002  209.190002   \n",
       "2019-09-05  212.000000  213.970001  211.509995  213.279999  213.279999   \n",
       "2019-09-06  214.050003  214.419998  212.509995  213.259995  213.259995   \n",
       "\n",
       "              Volume  \n",
       "Date                  \n",
       "2019-08-30  21143400  \n",
       "2019-09-03  20023000  \n",
       "2019-09-04  19188100  \n",
       "2019-09-05  23913700  \n",
       "2019-09-06  19350800  "
      ]
     },
     "execution_count": 5,
     "metadata": {},
     "output_type": "execute_result"
    }
   ],
   "source": [
    "df.tail()"
   ]
  },
  {
   "cell_type": "code",
   "execution_count": 6,
   "metadata": {
    "colab": {},
    "colab_type": "code",
    "id": "D6tmGBaY3G1h"
   },
   "outputs": [
    {
     "data": {
      "text/html": [
       "<div>\n",
       "<style scoped>\n",
       "    .dataframe tbody tr th:only-of-type {\n",
       "        vertical-align: middle;\n",
       "    }\n",
       "\n",
       "    .dataframe tbody tr th {\n",
       "        vertical-align: top;\n",
       "    }\n",
       "\n",
       "    .dataframe thead th {\n",
       "        text-align: right;\n",
       "    }\n",
       "</style>\n",
       "<table border=\"1\" class=\"dataframe\">\n",
       "  <thead>\n",
       "    <tr style=\"text-align: right;\">\n",
       "      <th></th>\n",
       "      <th>Open</th>\n",
       "      <th>High</th>\n",
       "      <th>Low</th>\n",
       "      <th>Close</th>\n",
       "      <th>Adj Close</th>\n",
       "      <th>Volume</th>\n",
       "    </tr>\n",
       "  </thead>\n",
       "  <tbody>\n",
       "    <tr>\n",
       "      <td>count</td>\n",
       "      <td>250.000000</td>\n",
       "      <td>250.000000</td>\n",
       "      <td>250.000000</td>\n",
       "      <td>250.000000</td>\n",
       "      <td>250.000000</td>\n",
       "      <td>2.500000e+02</td>\n",
       "    </tr>\n",
       "    <tr>\n",
       "      <td>mean</td>\n",
       "      <td>192.092360</td>\n",
       "      <td>194.140440</td>\n",
       "      <td>190.083600</td>\n",
       "      <td>192.116880</td>\n",
       "      <td>190.507695</td>\n",
       "      <td>3.258498e+07</td>\n",
       "    </tr>\n",
       "    <tr>\n",
       "      <td>std</td>\n",
       "      <td>21.062178</td>\n",
       "      <td>21.207069</td>\n",
       "      <td>20.938713</td>\n",
       "      <td>21.009097</td>\n",
       "      <td>20.814951</td>\n",
       "      <td>1.394851e+07</td>\n",
       "    </tr>\n",
       "    <tr>\n",
       "      <td>min</td>\n",
       "      <td>143.979996</td>\n",
       "      <td>145.720001</td>\n",
       "      <td>142.000000</td>\n",
       "      <td>142.190002</td>\n",
       "      <td>140.505798</td>\n",
       "      <td>1.136200e+07</td>\n",
       "    </tr>\n",
       "    <tr>\n",
       "      <td>25%</td>\n",
       "      <td>174.737499</td>\n",
       "      <td>175.902496</td>\n",
       "      <td>173.362499</td>\n",
       "      <td>174.757499</td>\n",
       "      <td>173.279304</td>\n",
       "      <td>2.289640e+07</td>\n",
       "    </tr>\n",
       "    <tr>\n",
       "      <td>50%</td>\n",
       "      <td>196.364998</td>\n",
       "      <td>198.750000</td>\n",
       "      <td>193.805000</td>\n",
       "      <td>196.345001</td>\n",
       "      <td>195.165612</td>\n",
       "      <td>2.942395e+07</td>\n",
       "    </tr>\n",
       "    <tr>\n",
       "      <td>75%</td>\n",
       "      <td>207.449997</td>\n",
       "      <td>209.089996</td>\n",
       "      <td>205.104996</td>\n",
       "      <td>207.479996</td>\n",
       "      <td>206.476417</td>\n",
       "      <td>3.897412e+07</td>\n",
       "    </tr>\n",
       "    <tr>\n",
       "      <td>max</td>\n",
       "      <td>230.779999</td>\n",
       "      <td>233.470001</td>\n",
       "      <td>229.779999</td>\n",
       "      <td>232.070007</td>\n",
       "      <td>228.523819</td>\n",
       "      <td>9.624670e+07</td>\n",
       "    </tr>\n",
       "  </tbody>\n",
       "</table>\n",
       "</div>"
      ],
      "text/plain": [
       "             Open        High         Low       Close   Adj Close  \\\n",
       "count  250.000000  250.000000  250.000000  250.000000  250.000000   \n",
       "mean   192.092360  194.140440  190.083600  192.116880  190.507695   \n",
       "std     21.062178   21.207069   20.938713   21.009097   20.814951   \n",
       "min    143.979996  145.720001  142.000000  142.190002  140.505798   \n",
       "25%    174.737499  175.902496  173.362499  174.757499  173.279304   \n",
       "50%    196.364998  198.750000  193.805000  196.345001  195.165612   \n",
       "75%    207.449997  209.089996  205.104996  207.479996  206.476417   \n",
       "max    230.779999  233.470001  229.779999  232.070007  228.523819   \n",
       "\n",
       "             Volume  \n",
       "count  2.500000e+02  \n",
       "mean   3.258498e+07  \n",
       "std    1.394851e+07  \n",
       "min    1.136200e+07  \n",
       "25%    2.289640e+07  \n",
       "50%    2.942395e+07  \n",
       "75%    3.897412e+07  \n",
       "max    9.624670e+07  "
      ]
     },
     "execution_count": 6,
     "metadata": {},
     "output_type": "execute_result"
    }
   ],
   "source": [
    "df.describe()"
   ]
  },
  {
   "cell_type": "code",
   "execution_count": 7,
   "metadata": {},
   "outputs": [
    {
     "name": "stdout",
     "output_type": "stream",
     "text": [
      "<class 'pandas.core.frame.DataFrame'>\n",
      "DatetimeIndex: 250 entries, 2018-09-10 to 2019-09-06\n",
      "Data columns (total 6 columns):\n",
      "Open         250 non-null float64\n",
      "High         250 non-null float64\n",
      "Low          250 non-null float64\n",
      "Close        250 non-null float64\n",
      "Adj Close    250 non-null float64\n",
      "Volume       250 non-null int64\n",
      "dtypes: float64(5), int64(1)\n",
      "memory usage: 13.7 KB\n"
     ]
    }
   ],
   "source": [
    "df.info()"
   ]
  },
  {
   "cell_type": "code",
   "execution_count": 8,
   "metadata": {},
   "outputs": [
    {
     "data": {
      "text/plain": [
       "<matplotlib.axes._subplots.AxesSubplot at 0x1a20e53bd0>"
      ]
     },
     "execution_count": 8,
     "metadata": {},
     "output_type": "execute_result"
    },
    {
     "data": {
      "image/png": "[encoded data removed]",
      "text/plain": [
       "<Figure size 432x288 with 1 Axes>"
      ]
     },
     "metadata": {
      "needs_background": "light"
     },
     "output_type": "display_data"
    }
   ],
   "source": [
    "sns.boxplot(data = df[['Open','High','Low','Close','Adj Close']])"
   ]
  },
  {
   "cell_type": "code",
   "execution_count": 9,
   "metadata": {},
   "outputs": [
    {
     "data": {
      "text/plain": [
       "<matplotlib.axes._subplots.AxesSubplot at 0x1a20f5c910>"
      ]
     },
     "execution_count": 9,
     "metadata": {},
     "output_type": "execute_result"
    },
    {
     "data": {
      "image/png": "[encoded data removed]",
      "text/plain": [
       "<Figure size 432x288 with 1 Axes>"
      ]
     },
     "metadata": {
      "needs_background": "light"
     },
     "output_type": "display_data"
    }
   ],
   "source": [
    "sns.boxplot(df['Volume'])"
   ]
  },
  {
   "cell_type": "code",
   "execution_count": 10,
   "metadata": {
    "colab": {},
    "colab_type": "code",
    "id": "g5BfNAJh3FT7"
   },
   "outputs": [
    {
     "data": {
      "image/png": "[encoded data removed]",
      "text/plain": [
       "<Figure size 864x576 with 1 Axes>"
      ]
     },
     "metadata": {
      "needs_background": "light"
     },
     "output_type": "display_data"
    }
   ],
   "source": [
    "_ = plt.figure(figsize=(12,8))\n",
    "_ = plt.plot(df['Adj Close'], label='Adj Close')\n",
    "_ = plt.plot(df['Open'], label='Open')\n",
    "_ = plt.plot(df['High'], label='High')\n",
    "_ = plt.plot(df['Low'], label='Low')\n",
    "_ = plt.legend()\n",
    "_ = plt.xlabel('Date')\n",
    "_ = plt.ylabel('Price (USD)')\n",
    "_ = plt.title('Apple (AAPL)')\n",
    "plt.show()"
   ]
  },
  {
   "cell_type": "markdown",
   "metadata": {
    "colab_type": "text",
    "id": "01FahZkDlhTY"
   },
   "source": [
    "# Preproccessing\n",
    "This model uses data from 32 records to predict the 33rd value of the 'Adj Close' feature."
   ]
  },
  {
   "cell_type": "code",
   "execution_count": 11,
   "metadata": {
    "colab": {},
    "colab_type": "code",
    "id": "m9UiR3bBPUeK"
   },
   "outputs": [
    {
     "data": {
      "text/plain": [
       "218"
      ]
     },
     "execution_count": 11,
     "metadata": {},
     "output_type": "execute_result"
    }
   ],
   "source": [
    "window_size=32\n",
    "num_samples=len(df)-window_size\n",
    "num_samples"
   ]
  },
  {
   "cell_type": "code",
   "execution_count": 12,
   "metadata": {
    "colab": {},
    "colab_type": "code",
    "id": "m9UiR3bBPUeK"
   },
   "outputs": [
    {
     "name": "stdout",
     "output_type": "stream",
     "text": [
      "(218, 33)\n"
     ]
    },
    {
     "data": {
      "text/plain": [
       "array([[  0,   1,   2, ...,  30,  31,  32],\n",
       "       [  1,   2,   3, ...,  31,  32,  33],\n",
       "       [  2,   3,   4, ...,  32,  33,  34],\n",
       "       ...,\n",
       "       [215, 216, 217, ..., 245, 246, 247],\n",
       "       [216, 217, 218, ..., 246, 247, 248],\n",
       "       [217, 218, 219, ..., 247, 248, 249]])"
      ]
     },
     "execution_count": 12,
     "metadata": {},
     "output_type": "execute_result"
    }
   ],
   "source": [
    "# Get indices of access for the data\n",
    "indices=np.arange(num_samples).astype(np.int)[:,None]+np.arange(window_size+1).astype(np.int)\n",
    "\n",
    "# indices is a matrix A, where A[0] is the indices [0:32], A[1] is [1,33], and so on...\n",
    "print(indices.shape)\n",
    "indices"
   ]
  },
  {
   "cell_type": "code",
   "execution_count": 13,
   "metadata": {
    "colab": {},
    "colab_type": "code",
    "id": "m9UiR3bBPUeK"
   },
   "outputs": [
    {
     "data": {
      "text/plain": [
       "array([[214.993759, 220.429443, 217.691925, ..., 217.27832 , 219.326538,\n",
       "        211.803284],\n",
       "       [220.429443, 217.691925, 222.950317, ..., 219.326538, 211.803284,\n",
       "        216.44133 ],\n",
       "       [217.691925, 222.950317, 220.419571, ..., 211.803284, 216.44133 ,\n",
       "        212.994797],\n",
       "       ...,\n",
       "       [201.823181, 206.435654, 208.049515, ..., 208.740005, 205.699997,\n",
       "        209.190002],\n",
       "       [206.435654, 208.049515, 207.880173, ..., 205.699997, 209.190002,\n",
       "        213.279999],\n",
       "       [208.049515, 207.880173, 206.23642 , ..., 209.190002, 213.279999,\n",
       "        213.259995]])"
      ]
     },
     "execution_count": 13,
     "metadata": {},
     "output_type": "execute_result"
    }
   ],
   "source": [
    "# use the matrix \"indices\" to create a matrix of Adj Close values\n",
    "data = df['Adj Close'].values[indices] # Create the 2D matrix of training samples\n",
    "data"
   ]
  },
  {
   "cell_type": "code",
   "execution_count": 14,
   "metadata": {
    "colab": {},
    "colab_type": "code",
    "id": "m9UiR3bBPUeK"
   },
   "outputs": [
    {
     "data": {
      "text/plain": [
       "array([[214.993759, 220.429443, 217.691925, ..., 215.958801, 217.27832 ,\n",
       "        219.326538],\n",
       "       [220.429443, 217.691925, 222.950317, ..., 217.27832 , 219.326538,\n",
       "        211.803284],\n",
       "       [217.691925, 222.950317, 220.419571, ..., 219.326538, 211.803284,\n",
       "        216.44133 ],\n",
       "       ...,\n",
       "       [201.823181, 206.435654, 208.049515, ..., 209.009995, 208.740005,\n",
       "        205.699997],\n",
       "       [206.435654, 208.049515, 207.880173, ..., 208.740005, 205.699997,\n",
       "        209.190002],\n",
       "       [208.049515, 207.880173, 206.23642 , ..., 205.699997, 209.190002,\n",
       "        213.279999]])"
      ]
     },
     "execution_count": 14,
     "metadata": {},
     "output_type": "execute_result"
    }
   ],
   "source": [
    "X = data[:,:-1] # Each row represents 32 days in the past\n",
    "X"
   ]
  },
  {
   "cell_type": "code",
   "execution_count": 15,
   "metadata": {
    "colab": {},
    "colab_type": "code",
    "id": "m9UiR3bBPUeK"
   },
   "outputs": [
    {
     "data": {
      "text/plain": [
       "array([211.803284, 216.44133 , 212.994797, 208.996857, 210.040649,\n",
       "       215.515686, 218.824341, 204.30957 , 198.509583, 200.656265,\n",
       "       206.741821, 206.020493, 202.048096, 191.870087, 189.953079,\n",
       "       184.587402, 189.142792, 191.237686, 183.658539, 174.883713,\n",
       "       174.686081, 170.249252, 172.551666, 172.176163, 178.796799,\n",
       "       177.423264, 176.464767, 182.630859, 174.597153, 172.650482,\n",
       "       166.494278, 167.591125, 166.632614, 167.097046, 168.925125,\n",
       "       163.519913, 161.998169, 164.102936, 158.984299, 154.972397,\n",
       "       148.944626, 145.090836, 155.30835 , 154.300446, 154.379486,\n",
       "       155.871613, 156.049484, 140.505798, 146.503891, 146.177811,\n",
       "       148.964386, 151.494064, 151.978271, 150.48616 , 148.223282,\n",
       "       151.256927, 153.104782, 154.013885, 154.962494, 151.484207,\n",
       "       152.096848, 150.891296, 155.891357, 154.448654, 152.847839,\n",
       "       163.292648, 164.468567, 164.547607, 169.221588, 172.116867,\n",
       "       172.176163, 168.915268, 169.113724, 168.141174, 169.590073,\n",
       "       168.885468, 169.500778, 169.123657, 169.629761, 170.721405,\n",
       "       169.758789, 171.654251, 172.904678, 173.003922, 173.539795,\n",
       "       171.832886, 173.639038, 174.51236 , 174.194778, 173.192474,\n",
       "       171.187836, 171.594711, 177.539139, 179.533875, 180.327774,\n",
       "       182.332397, 184.704224, 186.589783, 185.111115, 186.728714,\n",
       "       193.605988, 189.596725, 187.304291, 185.369125, 187.036346,\n",
       "       187.284439, 188.505081, 189.785278, 192.544144, 193.864029,\n",
       "       194.201431, 195.501465, 198.577881, 197.982452, 199.093918,\n",
       "       197.43663 , 197.357239, 197.714493, 197.734344, 201.584839,\n",
       "       202.309296, 202.974197, 205.901749, 205.584183, 203.718491,\n",
       "       202.745941, 203.053589, 199.143539, 208.918625, 207.559052,\n",
       "       210.139267, 206.894135, 201.316895, 201.356583, 199.193176,\n",
       "       196.433655, 185.017044, 187.945908, 190.197357, 189.360535,\n",
       "       188.284622, 182.396988, 185.893707, 182.088165, 178.97998 ,\n",
       "       178.292587, 177.555389, 176.708603, 177.625122, 174.407349,\n",
       "       172.644043, 178.960052, 181.84906 , 184.518936, 189.430267,\n",
       "       191.851074, 194.072632, 193.454987, 193.415115, 192.010468,\n",
       "       193.156113, 197.698853, 197.121048, 198.705032, 198.027603,\n",
       "       197.828369, 194.829758, 199.043747, 198.983978, 197.170853,\n",
       "       200.787125, 201.962646, 203.636292, 203.45697 , 199.262909,\n",
       "       200.478302, 202.460754, 200.986359, 202.530502, 204.433273,\n",
       "       203.725952, 202.580307, 204.881561, 201.823181, 206.435654,\n",
       "       208.049515, 207.880173, 206.23642 , 206.95369 , 208.886337,\n",
       "       207.989746, 212.233627, 207.641068, 203.247772, 192.608185,\n",
       "       196.254333, 198.286606, 202.659988, 200.990005, 200.479996,\n",
       "       208.970001, 202.75    , 201.740005, 206.5     , 210.350006,\n",
       "       210.360001, 212.639999, 212.460007, 202.639999, 206.490005,\n",
       "       204.160004, 205.529999, 209.009995, 208.740005, 205.699997,\n",
       "       209.190002, 213.279999, 213.259995])"
      ]
     },
     "execution_count": 15,
     "metadata": {},
     "output_type": "execute_result"
    }
   ],
   "source": [
    "y = data[:,-1] # Each output value represents the 33rd day\n",
    "y"
   ]
  },
  {
   "cell_type": "code",
   "execution_count": 16,
   "metadata": {},
   "outputs": [],
   "source": [
    "# Note - was not getting the results I wanted using train_test_split and TimeSeriesSplit caused an error.\n",
    "# Needs additional research\n",
    "\n",
    "train_percent = 0.8\n",
    "breakpoint = int(num_samples * train_percent)\n",
    "\n",
    "X_train = X[:breakpoint]\n",
    "y_train = y[:breakpoint]\n",
    "X_test = X[breakpoint:]\n",
    "y_test = y[breakpoint:]"
   ]
  },
  {
   "cell_type": "code",
   "execution_count": 17,
   "metadata": {
    "colab": {},
    "colab_type": "code",
    "id": "9SRjkIH9Vwbc"
   },
   "outputs": [
    {
     "data": {
      "text/plain": [
       "array([[214.993759, 220.429443, 217.691925, ..., 215.958801, 217.27832 ,\n",
       "        219.326538],\n",
       "       [220.429443, 217.691925, 222.950317, ..., 217.27832 , 219.326538,\n",
       "        211.803284],\n",
       "       [217.691925, 222.950317, 220.419571, ..., 219.326538, 211.803284,\n",
       "        216.44133 ],\n",
       "       ...,\n",
       "       [189.360535, 188.284622, 182.396988, ..., 198.983978, 197.170853,\n",
       "        200.787125],\n",
       "       [188.284622, 182.396988, 185.893707, ..., 197.170853, 200.787125,\n",
       "        201.962646],\n",
       "       [182.396988, 185.893707, 182.088165, ..., 200.787125, 201.962646,\n",
       "        203.636292]])"
      ]
     },
     "execution_count": 17,
     "metadata": {},
     "output_type": "execute_result"
    }
   ],
   "source": [
    "X_train"
   ]
  },
  {
   "cell_type": "code",
   "execution_count": 18,
   "metadata": {
    "colab": {},
    "colab_type": "code",
    "id": "AJvOM9RNWMyc"
   },
   "outputs": [
    {
     "data": {
      "text/plain": [
       "(44,)"
      ]
     },
     "execution_count": 18,
     "metadata": {},
     "output_type": "execute_result"
    }
   ],
   "source": [
    "y_test.shape"
   ]
  },
  {
   "cell_type": "markdown",
   "metadata": {
    "colab_type": "text",
    "id": "1ObTOxtxqevc"
   },
   "source": [
    "# Modeling"
   ]
  },
  {
   "cell_type": "code",
   "execution_count": 19,
   "metadata": {
    "colab": {},
    "colab_type": "code",
    "id": "DhLMy_tp0Wzl"
   },
   "outputs": [],
   "source": [
    "#Help Functions\n",
    "def get_performance(model_pred):\n",
    "  #Function returns standard performance metrics\n",
    "  print('Mean Absolute Error:', metrics.mean_absolute_error(y_test, model_pred).round(4))  \n",
    "  print('Mean Squared Error:', metrics.mean_squared_error(y_test, model_pred).round(4))  \n",
    "  print('Root Mean Squared Error:', np.sqrt(metrics.mean_squared_error(y_test, model_pred)).round(4))\n",
    "  \n",
    "  \n",
    "  \n",
    "def get_plot(model_pred):\n",
    "  plt.scatter(model_pred, y_test, color=\"gray\")\n",
    "  plt.xlabel('Predicted Values')\n",
    "  plt.ylabel('Actual Values')\n",
    "  plt.plot(y_test, y_test, color='red', linewidth=2)"
   ]
  },
  {
   "cell_type": "markdown",
   "metadata": {
    "colab_type": "text",
    "id": "i_7NV8mS0exY"
   },
   "source": [
    "## Linear Regression"
   ]
  },
  {
   "cell_type": "code",
   "execution_count": 20,
   "metadata": {
    "colab": {},
    "colab_type": "code",
    "id": "ZvhqwWmqshdp"
   },
   "outputs": [
    {
     "data": {
      "text/plain": [
       "LinearRegression(copy_X=True, fit_intercept=True, n_jobs=None, normalize=False)"
      ]
     },
     "execution_count": 20,
     "metadata": {},
     "output_type": "execute_result"
    }
   ],
   "source": [
    "model_lr = linear_model.LinearRegression()\n",
    "model_lr.fit(X_train, y_train)"
   ]
  },
  {
   "cell_type": "code",
   "execution_count": 21,
   "metadata": {
    "colab": {},
    "colab_type": "code",
    "id": "IJ_9vIwRtar4"
   },
   "outputs": [],
   "source": [
    "y_pred_lr=model_lr.predict(X_test)"
   ]
  },
  {
   "cell_type": "code",
   "execution_count": 22,
   "metadata": {
    "colab": {},
    "colab_type": "code",
    "id": "LQyU1G0at3e3"
   },
   "outputs": [
    {
     "name": "stdout",
     "output_type": "stream",
     "text": [
      "Mean Absolute Error: 3.1314\n",
      "Mean Squared Error: 15.8461\n",
      "Root Mean Squared Error: 3.9807\n"
     ]
    }
   ],
   "source": [
    "get_performance(y_pred_lr)"
   ]
  },
  {
   "cell_type": "code",
   "execution_count": 23,
   "metadata": {
    "colab": {},
    "colab_type": "code",
    "id": "fqSKxWI31bt-"
   },
   "outputs": [
    {
     "data": {
      "image/png": "[encoded data removed]",
      "text/plain": [
       "<Figure size 432x288 with 1 Axes>"
      ]
     },
     "metadata": {
      "needs_background": "light"
     },
     "output_type": "display_data"
    }
   ],
   "source": [
    "get_plot(y_pred_lr)"
   ]
  },
  {
   "cell_type": "markdown",
   "metadata": {
    "colab_type": "text",
    "id": "2uOd85gIX9SV"
   },
   "source": [
    "## Ridge Regression"
   ]
  },
  {
   "cell_type": "code",
   "execution_count": 25,
   "metadata": {
    "colab": {},
    "colab_type": "code",
    "id": "tIZ3_ZtwYBm0"
   },
   "outputs": [],
   "source": [
    "model_ridge = linear_model.Ridge()\n",
    "model_ridge.fit(X_train, y_train)\n",
    "\n",
    "#generate predictions\n",
    "y_pred_ridge=model_ridge.predict(X_test)"
   ]
  },
  {
   "cell_type": "code",
   "execution_count": 26,
   "metadata": {
    "colab": {
     "base_uri": "https://localhost:8080/",
     "height": 68
    },
    "colab_type": "code",
    "id": "V7AbF6rQ5rT_",
    "outputId": "2b470039-0217-4042-f6aa-71c80fdeb54c"
   },
   "outputs": [
    {
     "name": "stdout",
     "output_type": "stream",
     "text": [
      "Mean Absolute Error: 3.1307\n",
      "Mean Squared Error: 15.842\n",
      "Root Mean Squared Error: 3.9802\n"
     ]
    }
   ],
   "source": [
    "get_performance(y_pred_ridge)"
   ]
  },
  {
   "cell_type": "code",
   "execution_count": 27,
   "metadata": {
    "colab": {
     "base_uri": "https://localhost:8080/",
     "height": 269
    },
    "colab_type": "code",
    "id": "SZi1qbIR5rWQ",
    "outputId": "32f92ed2-3c2b-45c8-b3eb-c2b464d4120a"
   },
   "outputs": [
    {
     "data": {
      "image/png": "[encoded data removed]",
      "text/plain": [
       "<Figure size 432x288 with 1 Axes>"
      ]
     },
     "metadata": {
      "needs_background": "light"
     },
     "output_type": "display_data"
    }
   ],
   "source": [
    "get_plot(y_pred_ridge)"
   ]
  },
  {
   "cell_type": "code",
   "execution_count": 28,
   "metadata": {},
   "outputs": [],
   "source": [
    "model_lasso = linear_model.Lasso()\n",
    "model_lasso.fit(X_train,y_train)\n",
    "\n",
    "y_pred_lasso = model_lasso.predict(X_test)"
   ]
  },
  {
   "cell_type": "code",
   "execution_count": 29,
   "metadata": {},
   "outputs": [
    {
     "name": "stdout",
     "output_type": "stream",
     "text": [
      "Mean Absolute Error: 2.9681\n",
      "Mean Squared Error: 14.4847\n",
      "Root Mean Squared Error: 3.8059\n"
     ]
    }
   ],
   "source": [
    "get_performance(y_pred_lasso)"
   ]
  },
  {
   "cell_type": "code",
   "execution_count": 30,
   "metadata": {},
   "outputs": [
    {
     "data": {
      "image/png": "[encoded data removed]",
      "text/plain": [
       "<Figure size 432x288 with 1 Axes>"
      ]
     },
     "metadata": {
      "needs_background": "light"
     },
     "output_type": "display_data"
    }
   ],
   "source": [
    "get_plot(y_pred_lasso)"
   ]
  },
  {
   "cell_type": "markdown",
   "metadata": {
    "colab_type": "text",
    "id": "pWSJU6S-BbAN"
   },
   "source": [
    "# Conclusion and Next Steps"
   ]
  },
  {
   "cell_type": "markdown",
   "metadata": {
    "colab_type": "text",
    "id": "roknARF1CAbi"
   },
   "source": [
    "While all models produced similar results, Lasso had the lowest error.\n",
    "\n",
    "This notebook only used the 'Adj Close' feature.  My next step would be to include additional features.\n",
    "\n",
    "Finally, a shout out to Manny Bernabe.  His code and YouTube video were a big help.\n",
    "\n"
   ]
  },
  {
   "cell_type": "code",
   "execution_count": null,
   "metadata": {},
   "outputs": [],
   "source": []
  }
 ],
 "metadata": {
  "accelerator": "GPU",
  "colab": {
   "collapsed_sections": [],
   "include_colab_link": true,
   "name": "Intro_time_series_regression.ipynb",
   "provenance": [],
   "version": "0.3.2"
  },
  "kernelspec": {
   "display_name": "Python 3",
   "language": "python",
   "name": "python3"
  },
  "language_info": {
   "codemirror_mode": {
    "name": "ipython",
    "version": 3
   },
   "file_extension": ".py",
   "mimetype": "text/x-python",
   "name": "python",
   "nbconvert_exporter": "python",
   "pygments_lexer": "ipython3",
   "version": "3.7.4"
  }
 },
 "nbformat": 4,
 "nbformat_minor": 4
}
